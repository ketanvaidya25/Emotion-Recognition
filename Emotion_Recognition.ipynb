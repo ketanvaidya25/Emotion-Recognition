{
  "nbformat": 4,
  "nbformat_minor": 0,
  "metadata": {
    "colab": {
      "name": "Emotion Recognition.ipynb",
      "provenance": []
    },
    "kernelspec": {
      "display_name": "Python 3",
      "name": "python3"
    }
  },
  "cells": [
    {
      "cell_type": "code",
      "metadata": {
        "id": "rGVchG3YhO7s"
      },
      "source": [
        "import pandas as pd\n",
        "from PIL import Image\n",
        "import numpy as np\n",
        "import matplotlib.pyplot as plt\n",
        "import keras\n",
        "from sklearn.model_selection import train_test_split\n",
        "from keras.layers import Conv2D, MaxPool2D, AveragePooling2D, Input, BatchNormalization, MaxPooling2D, Activation, Flatten, Dense, Dropout\n",
        "from keras.models import Model\n",
        "from keras.utils import to_categorical\n",
        "from sklearn.metrics import classification_report\n",
        "from imblearn.over_sampling import RandomOverSampler\n",
        "from keras.preprocessing import image\n",
        "import scipy"
      ],
      "execution_count": 53,
      "outputs": []
    },
    {
      "cell_type": "code",
      "metadata": {
        "id": "7SvctZknmrb9"
      },
      "source": [
        "data = pd.read_csv('/content/drive/My Drive/icml_face_data.csv')"
      ],
      "execution_count": 2,
      "outputs": []
    },
    {
      "cell_type": "code",
      "metadata": {
        "id": "gYGS6n6InBF-",
        "outputId": "a83f3c03-cee2-4458-d7cc-9961a17d1a7c",
        "colab": {
          "base_uri": "https://localhost:8080/",
          "height": 195
        }
      },
      "source": [
        "data.head()"
      ],
      "execution_count": 3,
      "outputs": [
        {
          "output_type": "execute_result",
          "data": {
            "text/html": [
              "<div>\n",
              "<style scoped>\n",
              "    .dataframe tbody tr th:only-of-type {\n",
              "        vertical-align: middle;\n",
              "    }\n",
              "\n",
              "    .dataframe tbody tr th {\n",
              "        vertical-align: top;\n",
              "    }\n",
              "\n",
              "    .dataframe thead th {\n",
              "        text-align: right;\n",
              "    }\n",
              "</style>\n",
              "<table border=\"1\" class=\"dataframe\">\n",
              "  <thead>\n",
              "    <tr style=\"text-align: right;\">\n",
              "      <th></th>\n",
              "      <th>emotion</th>\n",
              "      <th>Usage</th>\n",
              "      <th>pixels</th>\n",
              "    </tr>\n",
              "  </thead>\n",
              "  <tbody>\n",
              "    <tr>\n",
              "      <th>0</th>\n",
              "      <td>0</td>\n",
              "      <td>Training</td>\n",
              "      <td>70 80 82 72 58 58 60 63 54 58 60 48 89 115 121...</td>\n",
              "    </tr>\n",
              "    <tr>\n",
              "      <th>1</th>\n",
              "      <td>0</td>\n",
              "      <td>Training</td>\n",
              "      <td>151 150 147 155 148 133 111 140 170 174 182 15...</td>\n",
              "    </tr>\n",
              "    <tr>\n",
              "      <th>2</th>\n",
              "      <td>2</td>\n",
              "      <td>Training</td>\n",
              "      <td>231 212 156 164 174 138 161 173 182 200 106 38...</td>\n",
              "    </tr>\n",
              "    <tr>\n",
              "      <th>3</th>\n",
              "      <td>4</td>\n",
              "      <td>Training</td>\n",
              "      <td>24 32 36 30 32 23 19 20 30 41 21 22 32 34 21 1...</td>\n",
              "    </tr>\n",
              "    <tr>\n",
              "      <th>4</th>\n",
              "      <td>6</td>\n",
              "      <td>Training</td>\n",
              "      <td>4 0 0 0 0 0 0 0 0 0 0 0 3 15 23 28 48 50 58 84...</td>\n",
              "    </tr>\n",
              "  </tbody>\n",
              "</table>\n",
              "</div>"
            ],
            "text/plain": [
              "   emotion     Usage                                             pixels\n",
              "0        0  Training  70 80 82 72 58 58 60 63 54 58 60 48 89 115 121...\n",
              "1        0  Training  151 150 147 155 148 133 111 140 170 174 182 15...\n",
              "2        2  Training  231 212 156 164 174 138 161 173 182 200 106 38...\n",
              "3        4  Training  24 32 36 30 32 23 19 20 30 41 21 22 32 34 21 1...\n",
              "4        6  Training  4 0 0 0 0 0 0 0 0 0 0 0 3 15 23 28 48 50 58 84..."
            ]
          },
          "metadata": {
            "tags": []
          },
          "execution_count": 3
        }
      ]
    },
    {
      "cell_type": "code",
      "metadata": {
        "id": "1tYgxleYCBzj",
        "outputId": "9edb6886-8f40-4e06-b99c-8295aeac1ebf",
        "colab": {
          "base_uri": "https://localhost:8080/",
          "height": 402
        }
      },
      "source": [
        "data"
      ],
      "execution_count": 4,
      "outputs": [
        {
          "output_type": "execute_result",
          "data": {
            "text/html": [
              "<div>\n",
              "<style scoped>\n",
              "    .dataframe tbody tr th:only-of-type {\n",
              "        vertical-align: middle;\n",
              "    }\n",
              "\n",
              "    .dataframe tbody tr th {\n",
              "        vertical-align: top;\n",
              "    }\n",
              "\n",
              "    .dataframe thead th {\n",
              "        text-align: right;\n",
              "    }\n",
              "</style>\n",
              "<table border=\"1\" class=\"dataframe\">\n",
              "  <thead>\n",
              "    <tr style=\"text-align: right;\">\n",
              "      <th></th>\n",
              "      <th>emotion</th>\n",
              "      <th>Usage</th>\n",
              "      <th>pixels</th>\n",
              "    </tr>\n",
              "  </thead>\n",
              "  <tbody>\n",
              "    <tr>\n",
              "      <th>0</th>\n",
              "      <td>0</td>\n",
              "      <td>Training</td>\n",
              "      <td>70 80 82 72 58 58 60 63 54 58 60 48 89 115 121...</td>\n",
              "    </tr>\n",
              "    <tr>\n",
              "      <th>1</th>\n",
              "      <td>0</td>\n",
              "      <td>Training</td>\n",
              "      <td>151 150 147 155 148 133 111 140 170 174 182 15...</td>\n",
              "    </tr>\n",
              "    <tr>\n",
              "      <th>2</th>\n",
              "      <td>2</td>\n",
              "      <td>Training</td>\n",
              "      <td>231 212 156 164 174 138 161 173 182 200 106 38...</td>\n",
              "    </tr>\n",
              "    <tr>\n",
              "      <th>3</th>\n",
              "      <td>4</td>\n",
              "      <td>Training</td>\n",
              "      <td>24 32 36 30 32 23 19 20 30 41 21 22 32 34 21 1...</td>\n",
              "    </tr>\n",
              "    <tr>\n",
              "      <th>4</th>\n",
              "      <td>6</td>\n",
              "      <td>Training</td>\n",
              "      <td>4 0 0 0 0 0 0 0 0 0 0 0 3 15 23 28 48 50 58 84...</td>\n",
              "    </tr>\n",
              "    <tr>\n",
              "      <th>...</th>\n",
              "      <td>...</td>\n",
              "      <td>...</td>\n",
              "      <td>...</td>\n",
              "    </tr>\n",
              "    <tr>\n",
              "      <th>35882</th>\n",
              "      <td>6</td>\n",
              "      <td>PrivateTest</td>\n",
              "      <td>50 36 17 22 23 29 33 39 34 37 37 37 39 43 48 5...</td>\n",
              "    </tr>\n",
              "    <tr>\n",
              "      <th>35883</th>\n",
              "      <td>3</td>\n",
              "      <td>PrivateTest</td>\n",
              "      <td>178 174 172 173 181 188 191 194 196 199 200 20...</td>\n",
              "    </tr>\n",
              "    <tr>\n",
              "      <th>35884</th>\n",
              "      <td>0</td>\n",
              "      <td>PrivateTest</td>\n",
              "      <td>17 17 16 23 28 22 19 17 25 26 20 24 31 19 27 9...</td>\n",
              "    </tr>\n",
              "    <tr>\n",
              "      <th>35885</th>\n",
              "      <td>3</td>\n",
              "      <td>PrivateTest</td>\n",
              "      <td>30 28 28 29 31 30 42 68 79 81 77 67 67 71 63 6...</td>\n",
              "    </tr>\n",
              "    <tr>\n",
              "      <th>35886</th>\n",
              "      <td>2</td>\n",
              "      <td>PrivateTest</td>\n",
              "      <td>19 13 14 12 13 16 21 33 50 57 71 84 97 108 122...</td>\n",
              "    </tr>\n",
              "  </tbody>\n",
              "</table>\n",
              "<p>35887 rows × 3 columns</p>\n",
              "</div>"
            ],
            "text/plain": [
              "       emotion        Usage                                             pixels\n",
              "0            0     Training  70 80 82 72 58 58 60 63 54 58 60 48 89 115 121...\n",
              "1            0     Training  151 150 147 155 148 133 111 140 170 174 182 15...\n",
              "2            2     Training  231 212 156 164 174 138 161 173 182 200 106 38...\n",
              "3            4     Training  24 32 36 30 32 23 19 20 30 41 21 22 32 34 21 1...\n",
              "4            6     Training  4 0 0 0 0 0 0 0 0 0 0 0 3 15 23 28 48 50 58 84...\n",
              "...        ...          ...                                                ...\n",
              "35882        6  PrivateTest  50 36 17 22 23 29 33 39 34 37 37 37 39 43 48 5...\n",
              "35883        3  PrivateTest  178 174 172 173 181 188 191 194 196 199 200 20...\n",
              "35884        0  PrivateTest  17 17 16 23 28 22 19 17 25 26 20 24 31 19 27 9...\n",
              "35885        3  PrivateTest  30 28 28 29 31 30 42 68 79 81 77 67 67 71 63 6...\n",
              "35886        2  PrivateTest  19 13 14 12 13 16 21 33 50 57 71 84 97 108 122...\n",
              "\n",
              "[35887 rows x 3 columns]"
            ]
          },
          "metadata": {
            "tags": []
          },
          "execution_count": 4
        }
      ]
    },
    {
      "cell_type": "code",
      "metadata": {
        "id": "LYpJF4e9nGnZ"
      },
      "source": [
        "pixel_data = data[' pixels']\n",
        "label_data = data['emotion']\n"
      ],
      "execution_count": 5,
      "outputs": []
    },
    {
      "cell_type": "code",
      "metadata": {
        "id": "QuoH6FbkCjUH",
        "outputId": "d0f97e7f-2b43-4660-cdbf-109c10bf05fa",
        "colab": {
          "base_uri": "https://localhost:8080/"
        }
      },
      "source": [
        "len(label_data)"
      ],
      "execution_count": 6,
      "outputs": [
        {
          "output_type": "execute_result",
          "data": {
            "text/plain": [
              "35887"
            ]
          },
          "metadata": {
            "tags": []
          },
          "execution_count": 6
        }
      ]
    },
    {
      "cell_type": "code",
      "metadata": {
        "id": "UlV3qB5MnPBy"
      },
      "source": [
        "def preprocess_pixels(pixel_data):\n",
        "  images = []\n",
        "  for i in range(len(pixel_data)):\n",
        "    img = np.fromstring(pixel_data[i], dtype='int', sep=' ')\n",
        "    img = img.reshape(48,48,1)\n",
        "    images.append(img)\n",
        "\n",
        "  X = np.array(images)\n",
        "\n",
        " \n",
        "\n",
        "  return X"
      ],
      "execution_count": 7,
      "outputs": []
    },
    {
      "cell_type": "code",
      "metadata": {
        "id": "-U6G33azphzr",
        "outputId": "977b51ec-63bb-4f5e-ba20-51f75373bff7",
        "colab": {
          "base_uri": "https://localhost:8080/"
        }
      },
      "source": [
        "oversampler = RandomOverSampler(sampling_strategy='auto')\n",
        "\n",
        "X_over, Y_over = oversampler.fit_resample(pixel_data.values.reshape(-1,1), label_data)"
      ],
      "execution_count": 8,
      "outputs": [
        {
          "output_type": "stream",
          "text": [
            "/usr/local/lib/python3.6/dist-packages/sklearn/utils/deprecation.py:87: FutureWarning: Function safe_indexing is deprecated; safe_indexing is deprecated in version 0.22 and will be removed in version 0.24.\n",
            "  warnings.warn(msg, category=FutureWarning)\n"
          ],
          "name": "stderr"
        }
      ]
    },
    {
      "cell_type": "code",
      "metadata": {
        "id": "k-LqmHiSBwSH",
        "outputId": "f37efae9-4aab-4779-d62f-4dbdef106891",
        "colab": {
          "base_uri": "https://localhost:8080/"
        }
      },
      "source": [
        "X_over_series = pd.Series(X_over.flatten())\n",
        "X_over_series"
      ],
      "execution_count": 9,
      "outputs": [
        {
          "output_type": "execute_result",
          "data": {
            "text/plain": [
              "0        70 80 82 72 58 58 60 63 54 58 60 48 89 115 121...\n",
              "1        151 150 147 155 148 133 111 140 170 174 182 15...\n",
              "2        231 212 156 164 174 138 161 173 182 200 106 38...\n",
              "3        24 32 36 30 32 23 19 20 30 41 21 22 32 34 21 1...\n",
              "4        4 0 0 0 0 0 0 0 0 0 0 0 3 15 23 28 48 50 58 84...\n",
              "                               ...                        \n",
              "62918    116 115 117 118 117 58 6 10 11 11 55 84 130 16...\n",
              "62919    130 132 135 127 55 24 22 1 9 14 29 33 26 30 32...\n",
              "62920    220 219 218 215 220 170 51 40 41 53 70 83 85 8...\n",
              "62921    67 58 51 48 50 53 48 49 50 69 78 88 98 100 102...\n",
              "62922    121 121 123 53 25 37 35 22 21 53 67 77 97 107 ...\n",
              "Length: 62923, dtype: object"
            ]
          },
          "metadata": {
            "tags": []
          },
          "execution_count": 9
        }
      ]
    },
    {
      "cell_type": "code",
      "metadata": {
        "id": "_W4P_1AVB9GK"
      },
      "source": [
        "X = preprocess_pixels(X_over_series)\n",
        "Y = Y_over"
      ],
      "execution_count": 10,
      "outputs": []
    },
    {
      "cell_type": "code",
      "metadata": {
        "id": "AWusdjrqCI16",
        "outputId": "fd3b0b9e-696d-41e5-ec87-dea619968470",
        "colab": {
          "base_uri": "https://localhost:8080/"
        }
      },
      "source": [
        "Y = Y_over.reshape(Y.shape[0],1)\n",
        "Y.shape"
      ],
      "execution_count": 14,
      "outputs": [
        {
          "output_type": "execute_result",
          "data": {
            "text/plain": [
              "(62923, 1)"
            ]
          },
          "metadata": {
            "tags": []
          },
          "execution_count": 14
        }
      ]
    },
    {
      "cell_type": "code",
      "metadata": {
        "id": "ZdC8lQQ0kYjD"
      },
      "source": [
        "X_train, X_test, Y_train, Y_test = train_test_split(X, Y, test_size = 0.1, random_state = 45)"
      ],
      "execution_count": 16,
      "outputs": []
    },
    {
      "cell_type": "code",
      "metadata": {
        "id": "aKTjUkGBQ3X-"
      },
      "source": [
        "def emotion_recognition(input_shape):\n",
        "\n",
        "  X_input = Input(input_shape)\n",
        "\n",
        "  X = Conv2D(32, kernel_size=(3,3), strides=(1,1), padding='valid')(X_input)\n",
        "  X = BatchNormalization(axis=3)(X)\n",
        "  X = Activation('relu')(X)\n",
        "\n",
        " \n",
        "\n",
        "  X = Conv2D(64, (3,3), strides=(1,1), padding = 'same')(X)\n",
        "  X = BatchNormalization(axis=3)(X)\n",
        "  X = Activation('relu')(X)\n",
        "\n",
        "  X = MaxPooling2D((2,2))(X)\n",
        "\n",
        "  X = Conv2D(64, (3,3), strides=(1,1), padding = 'valid')(X)\n",
        "  X = BatchNormalization(axis=3)(X)\n",
        "  X = Activation('relu')(X)\n",
        "\n",
        "  X = Conv2D(128, (3,3), strides=(1,1), padding = 'same')(X)\n",
        "  X = BatchNormalization(axis=3)(X)\n",
        "  X = Activation('relu')(X)\n",
        "\n",
        "\n",
        "  X = MaxPooling2D((2,2))(X)\n",
        "\n",
        "  X = Conv2D(128, (3,3), strides=(1,1), padding = 'valid')(X)\n",
        "  X = BatchNormalization(axis=3)(X)\n",
        "  X = Activation('relu')(X)\n",
        "\n",
        " \n",
        "\n",
        "  X = MaxPooling2D((2,2))(X)\n",
        "  X = Flatten()(X)\n",
        "  X = Dense(200, activation='relu')(X)\n",
        "  X = Dropout(0.6)(X)\n",
        "  X = Dense(7, activation = 'softmax')(X)\n",
        "\n",
        "  model = Model(inputs=X_input, outputs=X)\n",
        "\n",
        "  return model\n",
        "\n",
        "\n",
        "\n",
        "\n",
        "\n",
        "\n",
        "\n",
        "\n"
      ],
      "execution_count": 17,
      "outputs": []
    },
    {
      "cell_type": "code",
      "metadata": {
        "id": "U6mxW-TA80lO"
      },
      "source": [
        "model = emotion_recognition((48,48,1))\n"
      ],
      "execution_count": 18,
      "outputs": []
    },
    {
      "cell_type": "code",
      "metadata": {
        "id": "7zhVS4hHCHCU",
        "outputId": "6d9399f4-400f-4625-ba29-9fd874f0dbb3",
        "colab": {
          "base_uri": "https://localhost:8080/"
        }
      },
      "source": [
        "model.summary()"
      ],
      "execution_count": 19,
      "outputs": [
        {
          "output_type": "stream",
          "text": [
            "Model: \"functional_1\"\n",
            "_________________________________________________________________\n",
            "Layer (type)                 Output Shape              Param #   \n",
            "=================================================================\n",
            "input_1 (InputLayer)         [(None, 48, 48, 1)]       0         \n",
            "_________________________________________________________________\n",
            "conv2d (Conv2D)              (None, 46, 46, 32)        320       \n",
            "_________________________________________________________________\n",
            "batch_normalization (BatchNo (None, 46, 46, 32)        128       \n",
            "_________________________________________________________________\n",
            "activation (Activation)      (None, 46, 46, 32)        0         \n",
            "_________________________________________________________________\n",
            "conv2d_1 (Conv2D)            (None, 46, 46, 64)        18496     \n",
            "_________________________________________________________________\n",
            "batch_normalization_1 (Batch (None, 46, 46, 64)        256       \n",
            "_________________________________________________________________\n",
            "activation_1 (Activation)    (None, 46, 46, 64)        0         \n",
            "_________________________________________________________________\n",
            "max_pooling2d (MaxPooling2D) (None, 23, 23, 64)        0         \n",
            "_________________________________________________________________\n",
            "conv2d_2 (Conv2D)            (None, 21, 21, 64)        36928     \n",
            "_________________________________________________________________\n",
            "batch_normalization_2 (Batch (None, 21, 21, 64)        256       \n",
            "_________________________________________________________________\n",
            "activation_2 (Activation)    (None, 21, 21, 64)        0         \n",
            "_________________________________________________________________\n",
            "conv2d_3 (Conv2D)            (None, 21, 21, 128)       73856     \n",
            "_________________________________________________________________\n",
            "batch_normalization_3 (Batch (None, 21, 21, 128)       512       \n",
            "_________________________________________________________________\n",
            "activation_3 (Activation)    (None, 21, 21, 128)       0         \n",
            "_________________________________________________________________\n",
            "max_pooling2d_1 (MaxPooling2 (None, 10, 10, 128)       0         \n",
            "_________________________________________________________________\n",
            "conv2d_4 (Conv2D)            (None, 8, 8, 128)         147584    \n",
            "_________________________________________________________________\n",
            "batch_normalization_4 (Batch (None, 8, 8, 128)         512       \n",
            "_________________________________________________________________\n",
            "activation_4 (Activation)    (None, 8, 8, 128)         0         \n",
            "_________________________________________________________________\n",
            "max_pooling2d_2 (MaxPooling2 (None, 4, 4, 128)         0         \n",
            "_________________________________________________________________\n",
            "flatten (Flatten)            (None, 2048)              0         \n",
            "_________________________________________________________________\n",
            "dense (Dense)                (None, 200)               409800    \n",
            "_________________________________________________________________\n",
            "dropout (Dropout)            (None, 200)               0         \n",
            "_________________________________________________________________\n",
            "dense_1 (Dense)              (None, 7)                 1407      \n",
            "=================================================================\n",
            "Total params: 690,055\n",
            "Trainable params: 689,223\n",
            "Non-trainable params: 832\n",
            "_________________________________________________________________\n"
          ],
          "name": "stdout"
        }
      ]
    },
    {
      "cell_type": "code",
      "metadata": {
        "id": "P0AO5FHaImqO"
      },
      "source": [
        "adam = keras.optimizers.Adam(learning_rate=0.0001)\n",
        "model.compile(optimizer=adam, loss='categorical_crossentropy', metrics=['accuracy'])"
      ],
      "execution_count": 20,
      "outputs": []
    },
    {
      "cell_type": "code",
      "metadata": {
        "id": "Te1pUFMTKb7G"
      },
      "source": [
        "y_train = to_categorical(Y_train, num_classes=7)"
      ],
      "execution_count": 21,
      "outputs": []
    },
    {
      "cell_type": "code",
      "metadata": {
        "id": "x5HZvYC5WIJY",
        "outputId": "e36bfee1-f08c-4a64-c5a6-b6f3c1437b4e",
        "colab": {
          "base_uri": "https://localhost:8080/"
        }
      },
      "source": [
        "y_train.shape"
      ],
      "execution_count": 22,
      "outputs": [
        {
          "output_type": "execute_result",
          "data": {
            "text/plain": [
              "(56630, 7)"
            ]
          },
          "metadata": {
            "tags": []
          },
          "execution_count": 22
        }
      ]
    },
    {
      "cell_type": "code",
      "metadata": {
        "id": "ZNrC1rHzKajD"
      },
      "source": [
        "y_test = to_categorical(Y_test, num_classes=7)"
      ],
      "execution_count": 23,
      "outputs": []
    },
    {
      "cell_type": "code",
      "metadata": {
        "id": "p0qBOHpKKRbP",
        "outputId": "3e20d205-1965-4d40-b612-536febd2e4be",
        "colab": {
          "base_uri": "https://localhost:8080/"
        }
      },
      "source": [
        "model.fit(X_train, y_train, epochs = 10, validation_data=(X_test, y_test))"
      ],
      "execution_count": 26,
      "outputs": [
        {
          "output_type": "stream",
          "text": [
            "Epoch 1/10\n",
            "1770/1770 [==============================] - 1064s 601ms/step - loss: 0.5772 - accuracy: 0.7885 - val_loss: 0.7032 - val_accuracy: 0.7572\n",
            "Epoch 2/10\n",
            "1770/1770 [==============================] - 1063s 601ms/step - loss: 0.5186 - accuracy: 0.8114 - val_loss: 0.6749 - val_accuracy: 0.7680\n",
            "Epoch 3/10\n",
            "1770/1770 [==============================] - 1067s 603ms/step - loss: 0.4649 - accuracy: 0.8337 - val_loss: 0.6529 - val_accuracy: 0.7823\n",
            "Epoch 4/10\n",
            "1770/1770 [==============================] - 1068s 603ms/step - loss: 0.4151 - accuracy: 0.8525 - val_loss: 0.6774 - val_accuracy: 0.7748\n",
            "Epoch 5/10\n",
            "1770/1770 [==============================] - 1069s 604ms/step - loss: 0.3752 - accuracy: 0.8663 - val_loss: 0.6496 - val_accuracy: 0.7968\n",
            "Epoch 6/10\n",
            "1770/1770 [==============================] - 1067s 603ms/step - loss: 0.3340 - accuracy: 0.8814 - val_loss: 0.6430 - val_accuracy: 0.8106\n",
            "Epoch 7/10\n",
            "1770/1770 [==============================] - 1068s 603ms/step - loss: 0.3080 - accuracy: 0.8929 - val_loss: 0.6918 - val_accuracy: 0.7958\n",
            "Epoch 8/10\n",
            "1770/1770 [==============================] - 1068s 604ms/step - loss: 0.2749 - accuracy: 0.9028 - val_loss: 0.6521 - val_accuracy: 0.8208\n",
            "Epoch 9/10\n",
            "1770/1770 [==============================] - 1070s 604ms/step - loss: 0.2490 - accuracy: 0.9137 - val_loss: 0.6587 - val_accuracy: 0.8230\n",
            "Epoch 10/10\n",
            "1770/1770 [==============================] - 1067s 603ms/step - loss: 0.2295 - accuracy: 0.9206 - val_loss: 0.6898 - val_accuracy: 0.8203\n"
          ],
          "name": "stdout"
        },
        {
          "output_type": "execute_result",
          "data": {
            "text/plain": [
              "<tensorflow.python.keras.callbacks.History at 0x7fbd91e6d7f0>"
            ]
          },
          "metadata": {
            "tags": []
          },
          "execution_count": 26
        }
      ]
    },
    {
      "cell_type": "code",
      "metadata": {
        "id": "I7KOJ9xXg1Pe"
      },
      "source": [
        "model.save_weights('/content/drive/My Drive/emotion_weights_1.hdf5')"
      ],
      "execution_count": 27,
      "outputs": []
    },
    {
      "cell_type": "code",
      "metadata": {
        "id": "BSajFgGWKR6u",
        "outputId": "f106a3a5-6614-44b7-c490-44850d153fe5",
        "colab": {
          "base_uri": "https://localhost:8080/"
        }
      },
      "source": [
        "model.evaluate(X_test, y_test)"
      ],
      "execution_count": 28,
      "outputs": [
        {
          "output_type": "stream",
          "text": [
            "197/197 [==============================] - 28s 140ms/step - loss: 0.6898 - accuracy: 0.8203\n"
          ],
          "name": "stdout"
        },
        {
          "output_type": "execute_result",
          "data": {
            "text/plain": [
              "[0.68984454870224, 0.8202764987945557]"
            ]
          },
          "metadata": {
            "tags": []
          },
          "execution_count": 28
        }
      ]
    },
    {
      "cell_type": "code",
      "metadata": {
        "id": "zNdAZXE5g8q5"
      },
      "source": [
        "preds = model.predict(X_train)"
      ],
      "execution_count": null,
      "outputs": []
    },
    {
      "cell_type": "code",
      "metadata": {
        "id": "7tdiBU8B-p-n"
      },
      "source": [
        "pred_class = np.zeros((32298,1))\n",
        "for i in range(len(preds)):\n",
        "  pred_class[i] = np.argmax(preds[i])\n"
      ],
      "execution_count": null,
      "outputs": []
    },
    {
      "cell_type": "code",
      "metadata": {
        "id": "SuEwTPlI-vht",
        "outputId": "8957c3ba-3722-4750-b622-76da94792519",
        "colab": {
          "base_uri": "https://localhost:8080/"
        }
      },
      "source": [
        "pred_class"
      ],
      "execution_count": null,
      "outputs": [
        {
          "output_type": "execute_result",
          "data": {
            "text/plain": [
              "array([[5.],\n",
              "       [2.],\n",
              "       [0.],\n",
              "       ...,\n",
              "       [2.],\n",
              "       [3.],\n",
              "       [2.]])"
            ]
          },
          "metadata": {
            "tags": []
          },
          "execution_count": 24
        }
      ]
    },
    {
      "cell_type": "code",
      "metadata": {
        "id": "gu6_tuPp_wlG"
      },
      "source": [
        "y_train = np.zeros((32298,1))\n",
        "for i in range(len(preds)):\n",
        "  y_train[i] = np.argmax(Y_train[i])"
      ],
      "execution_count": null,
      "outputs": []
    },
    {
      "cell_type": "code",
      "metadata": {
        "id": "DaTu5avA7QnE",
        "outputId": "dc998636-ffc5-4f34-e20f-f5f8edb07991",
        "colab": {
          "base_uri": "https://localhost:8080/"
        }
      },
      "source": [
        "y_train"
      ],
      "execution_count": null,
      "outputs": [
        {
          "output_type": "execute_result",
          "data": {
            "text/plain": [
              "array([[5.],\n",
              "       [2.],\n",
              "       [0.],\n",
              "       ...,\n",
              "       [2.],\n",
              "       [3.],\n",
              "       [2.]])"
            ]
          },
          "metadata": {
            "tags": []
          },
          "execution_count": 27
        }
      ]
    },
    {
      "cell_type": "code",
      "metadata": {
        "id": "TLmBEdV97bKt"
      },
      "source": [
        "report = classification_report(y_train, pred_class)\n"
      ],
      "execution_count": null,
      "outputs": []
    },
    {
      "cell_type": "code",
      "metadata": {
        "id": "ri5m6mPS7z-y",
        "outputId": "a4578d80-faea-4f75-d0d0-7a527549a76c",
        "colab": {
          "base_uri": "https://localhost:8080/"
        }
      },
      "source": [
        "print(report)"
      ],
      "execution_count": null,
      "outputs": [
        {
          "output_type": "stream",
          "text": [
            "              precision    recall  f1-score   support\n",
            "\n",
            "         0.0       0.99      0.90      0.94      4453\n",
            "         1.0       1.00      0.94      0.97       496\n",
            "         2.0       0.98      0.95      0.96      4600\n",
            "         3.0       1.00      0.98      0.99      8092\n",
            "         4.0       0.88      1.00      0.93      5452\n",
            "         5.0       0.97      0.99      0.98      3600\n",
            "         6.0       0.98      0.95      0.97      5605\n",
            "\n",
            "    accuracy                           0.96     32298\n",
            "   macro avg       0.97      0.96      0.96     32298\n",
            "weighted avg       0.97      0.96      0.96     32298\n",
            "\n"
          ],
          "name": "stdout"
        }
      ]
    },
    {
      "cell_type": "code",
      "metadata": {
        "id": "C1Kao6-C75oX"
      },
      "source": [
        "test_preds = model.predict(X_test)"
      ],
      "execution_count": 29,
      "outputs": []
    },
    {
      "cell_type": "code",
      "metadata": {
        "id": "1htzlakG8NrL",
        "outputId": "09a58c7d-d819-4c7d-9450-e82b96e65179",
        "colab": {
          "base_uri": "https://localhost:8080/"
        }
      },
      "source": [
        "len(test_preds)"
      ],
      "execution_count": 30,
      "outputs": [
        {
          "output_type": "execute_result",
          "data": {
            "text/plain": [
              "6293"
            ]
          },
          "metadata": {
            "tags": []
          },
          "execution_count": 30
        }
      ]
    },
    {
      "cell_type": "code",
      "metadata": {
        "id": "NVCYR7EZ8OSm"
      },
      "source": [
        "pred_test_class = np.zeros((6293,1))\n",
        "for i in range(len(test_preds)):\n",
        "  pred_test_class[i] = np.argmax(test_preds[i])"
      ],
      "execution_count": 31,
      "outputs": []
    },
    {
      "cell_type": "code",
      "metadata": {
        "id": "DvZhwY9z8die"
      },
      "source": [
        "report_test = classification_report(Y_test, pred_test_class)"
      ],
      "execution_count": 32,
      "outputs": []
    },
    {
      "cell_type": "code",
      "metadata": {
        "id": "eNv1DDiO8mph",
        "outputId": "c5a82241-877c-417a-bc6e-95243f2613cc",
        "colab": {
          "base_uri": "https://localhost:8080/"
        }
      },
      "source": [
        "print(report_test)"
      ],
      "execution_count": 33,
      "outputs": [
        {
          "output_type": "stream",
          "text": [
            "              precision    recall  f1-score   support\n",
            "\n",
            "           0       0.85      0.79      0.82       935\n",
            "           1       1.00      1.00      1.00       895\n",
            "           2       0.80      0.78      0.79       880\n",
            "           3       0.86      0.70      0.77       906\n",
            "           4       0.69      0.72      0.71       888\n",
            "           5       0.91      0.95      0.93       869\n",
            "           6       0.67      0.80      0.73       920\n",
            "\n",
            "    accuracy                           0.82      6293\n",
            "   macro avg       0.83      0.82      0.82      6293\n",
            "weighted avg       0.83      0.82      0.82      6293\n",
            "\n"
          ],
          "name": "stdout"
        }
      ]
    },
    {
      "cell_type": "code",
      "metadata": {
        "id": "jeZdCP9KgJGQ",
        "outputId": "768dc9c3-a1f4-4071-8918-bfe7cb170f14",
        "colab": {
          "base_uri": "https://localhost:8080/"
        }
      },
      "source": [
        "label_dict = {0 : 'Angry', 1 : 'Disgust', 2 : 'Fear', 3 : 'Happiness', 4 : 'Sad', 5 : 'Surprise', 6 : 'Neutral'}\n",
        "label_dict"
      ],
      "execution_count": 44,
      "outputs": [
        {
          "output_type": "execute_result",
          "data": {
            "text/plain": [
              "{0: 'Angry',\n",
              " 1: 'Disgust',\n",
              " 2: 'Fear',\n",
              " 3: 'Happiness',\n",
              " 4: 'Sad',\n",
              " 5: 'Surprise',\n",
              " 6: 'Neutral'}"
            ]
          },
          "metadata": {
            "tags": []
          },
          "execution_count": 44
        }
      ]
    },
    {
      "cell_type": "code",
      "metadata": {
        "id": "ClwqyGLl8rjA",
        "outputId": "1b64c907-ffff-4fe5-883f-6768b227cede",
        "colab": {
          "base_uri": "https://localhost:8080/"
        }
      },
      "source": [
        "img_path = 'test3_surprise.jpg'\n",
        "img = image.load_img(img_path, grayscale=True, target_size=(48,48))"
      ],
      "execution_count": 124,
      "outputs": [
        {
          "output_type": "stream",
          "text": [
            "/usr/local/lib/python3.6/dist-packages/keras_preprocessing/image/utils.py:107: UserWarning: grayscale is deprecated. Please use color_mode = \"grayscale\"\n",
            "  warnings.warn('grayscale is deprecated. Please use '\n"
          ],
          "name": "stderr"
        }
      ]
    },
    {
      "cell_type": "code",
      "metadata": {
        "id": "_J21yAK5eqMC",
        "outputId": "f2720d34-ba13-403e-bf80-d3edb9551c98",
        "colab": {
          "base_uri": "https://localhost:8080/"
        }
      },
      "source": [
        "x = image.img_to_array(img)\n",
        "x = np.expand_dims(x, axis=0)\n",
        "x.shape"
      ],
      "execution_count": 125,
      "outputs": [
        {
          "output_type": "execute_result",
          "data": {
            "text/plain": [
              "(1, 48, 48, 1)"
            ]
          },
          "metadata": {
            "tags": []
          },
          "execution_count": 125
        }
      ]
    },
    {
      "cell_type": "code",
      "metadata": {
        "id": "gcv0KacPevJS",
        "outputId": "9c9c74f5-8e29-40c1-b06e-1e59e66756a0",
        "colab": {
          "base_uri": "https://localhost:8080/",
          "height": 302
        }
      },
      "source": [
        "prediction = np.argmax(model.predict(x))\n",
        "print('The predicted emotion is : ' + label_dict[prediction])\n",
        "my_image = image.load_img(img_path)\n",
        "plt.imshow(my_image)"
      ],
      "execution_count": 126,
      "outputs": [
        {
          "output_type": "stream",
          "text": [
            "The predicted emotion is : Surprise\n"
          ],
          "name": "stdout"
        },
        {
          "output_type": "execute_result",
          "data": {
            "text/plain": [
              "<matplotlib.image.AxesImage at 0x7fbd8f0b7400>"
            ]
          },
          "metadata": {
            "tags": []
          },
          "execution_count": 126
        },
        {
          "output_type": "display_data",
          "data": {
            "image/png": "[encoded data removed]",
            "text/plain": [
              "<Figure size 432x288 with 1 Axes>"
            ]
          },
          "metadata": {
            "tags": [],
            "needs_background": "light"
          }
        }
      ]
    },
    {
      "cell_type": "code",
      "metadata": {
        "id": "R6luZarEme4q"
      },
      "source": [
        "img = np.fromstring(X_over_series[4], dtype='int', sep=' ')\n",
        "img = img.reshape(48,48,1)"
      ],
      "execution_count": 115,
      "outputs": []
    },
    {
      "cell_type": "code",
      "metadata": {
        "id": "A0asBzFjm9lJ",
        "outputId": "9690c92e-a1c4-45be-b373-10731fbb8159",
        "colab": {
          "base_uri": "https://localhost:8080/",
          "height": 284
        }
      },
      "source": [
        "plt.imshow(np.array(img.reshape(48,48)))"
      ],
      "execution_count": 116,
      "outputs": [
        {
          "output_type": "execute_result",
          "data": {
            "text/plain": [
              "<matplotlib.image.AxesImage at 0x7fbd8f1ee1d0>"
            ]
          },
          "metadata": {
            "tags": []
          },
          "execution_count": 116
        },
        {
          "output_type": "display_data",
          "data": {
            "image/png": "[encoded data removed]",
            "text/plain": [
              "<Figure size 432x288 with 1 Axes>"
            ]
          },
          "metadata": {
            "tags": [],
            "needs_background": "light"
          }
        }
      ]
    },
    {
      "cell_type": "code",
      "metadata": {
        "id": "H6A4tX7Dnbs-"
      },
      "source": [
        ""
      ],
      "execution_count": null,
      "outputs": []
    }
  ]
}