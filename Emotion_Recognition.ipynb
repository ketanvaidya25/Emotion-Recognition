{
  "nbformat": 4,
  "nbformat_minor": 0,
  "metadata": {
    "colab": {
      "name": "Emotion Recognition.ipynb",
      "provenance": [],
      "mount_file_id": "1mesQLVer5nxtAta6fND3GNYih6BsA3IU",
      "authorship_tag": "ABX9TyMreWHfPyoOorb2aITc5F0q"
    },
    "kernelspec": {
      "display_name": "Python 3",
      "name": "python3"
    },
    "accelerator": "GPU"
  },
  "cells": [
    {
      "cell_type": "code",
      "metadata": {
        "id": "rGVchG3YhO7s"
      },
      "source": [
        "import pandas as pd\n",
        "#from PIL import Image\n",
        "import numpy as np\n",
        "import matplotlib.pyplot as plt\n",
        "import keras\n",
        "from sklearn.model_selection import train_test_split\n",
        "from keras.layers import Conv2D, MaxPool2D, AveragePooling2D, Input, BatchNormalization, MaxPooling2D, Activation, Flatten, Dense, Dropout\n",
        "from keras.models import Model\n",
        "from keras.utils import to_categorical\n",
        "from sklearn.metrics import classification_report\n",
        "#from imblearn.over_sampling import RandomOverSampler\n",
        "from keras.preprocessing import image\n",
        "import scipy\n",
        "import os\n",
        "import cv2"
      ],
      "execution_count": 1,
      "outputs": []
    },
    {
      "cell_type": "code",
      "metadata": {
        "id": "7SvctZknmrb9"
      },
      "source": [
        "data = pd.read_csv('/content/drive/My Drive/icml_face_data.csv')"
      ],
      "execution_count": 2,
      "outputs": []
    },
    {
      "cell_type": "code",
      "metadata": {
        "id": "gYGS6n6InBF-",
        "outputId": "c2477211-1b22-488d-cd3d-33d0ab78eeca",
        "colab": {
          "base_uri": "https://localhost:8080/",
          "height": 195
        }
      },
      "source": [
        "data.head()"
      ],
      "execution_count": 3,
      "outputs": [
        {
          "output_type": "execute_result",
          "data": {
            "text/html": [
              "<div>\n",
              "<style scoped>\n",
              "    .dataframe tbody tr th:only-of-type {\n",
              "        vertical-align: middle;\n",
              "    }\n",
              "\n",
              "    .dataframe tbody tr th {\n",
              "        vertical-align: top;\n",
              "    }\n",
              "\n",
              "    .dataframe thead th {\n",
              "        text-align: right;\n",
              "    }\n",
              "</style>\n",
              "<table border=\"1\" class=\"dataframe\">\n",
              "  <thead>\n",
              "    <tr style=\"text-align: right;\">\n",
              "      <th></th>\n",
              "      <th>emotion</th>\n",
              "      <th>Usage</th>\n",
              "      <th>pixels</th>\n",
              "    </tr>\n",
              "  </thead>\n",
              "  <tbody>\n",
              "    <tr>\n",
              "      <th>0</th>\n",
              "      <td>0</td>\n",
              "      <td>Training</td>\n",
              "      <td>70 80 82 72 58 58 60 63 54 58 60 48 89 115 121...</td>\n",
              "    </tr>\n",
              "    <tr>\n",
              "      <th>1</th>\n",
              "      <td>0</td>\n",
              "      <td>Training</td>\n",
              "      <td>151 150 147 155 148 133 111 140 170 174 182 15...</td>\n",
              "    </tr>\n",
              "    <tr>\n",
              "      <th>2</th>\n",
              "      <td>2</td>\n",
              "      <td>Training</td>\n",
              "      <td>231 212 156 164 174 138 161 173 182 200 106 38...</td>\n",
              "    </tr>\n",
              "    <tr>\n",
              "      <th>3</th>\n",
              "      <td>4</td>\n",
              "      <td>Training</td>\n",
              "      <td>24 32 36 30 32 23 19 20 30 41 21 22 32 34 21 1...</td>\n",
              "    </tr>\n",
              "    <tr>\n",
              "      <th>4</th>\n",
              "      <td>6</td>\n",
              "      <td>Training</td>\n",
              "      <td>4 0 0 0 0 0 0 0 0 0 0 0 3 15 23 28 48 50 58 84...</td>\n",
              "    </tr>\n",
              "  </tbody>\n",
              "</table>\n",
              "</div>"
            ],
            "text/plain": [
              "   emotion     Usage                                             pixels\n",
              "0        0  Training  70 80 82 72 58 58 60 63 54 58 60 48 89 115 121...\n",
              "1        0  Training  151 150 147 155 148 133 111 140 170 174 182 15...\n",
              "2        2  Training  231 212 156 164 174 138 161 173 182 200 106 38...\n",
              "3        4  Training  24 32 36 30 32 23 19 20 30 41 21 22 32 34 21 1...\n",
              "4        6  Training  4 0 0 0 0 0 0 0 0 0 0 0 3 15 23 28 48 50 58 84..."
            ]
          },
          "metadata": {
            "tags": []
          },
          "execution_count": 3
        }
      ]
    },
    {
      "cell_type": "code",
      "metadata": {
        "id": "1tYgxleYCBzj",
        "outputId": "37925eab-659c-4441-8165-149de62a8da6",
        "colab": {
          "base_uri": "https://localhost:8080/",
          "height": 402
        }
      },
      "source": [
        "data"
      ],
      "execution_count": 4,
      "outputs": [
        {
          "output_type": "execute_result",
          "data": {
            "text/html": [
              "<div>\n",
              "<style scoped>\n",
              "    .dataframe tbody tr th:only-of-type {\n",
              "        vertical-align: middle;\n",
              "    }\n",
              "\n",
              "    .dataframe tbody tr th {\n",
              "        vertical-align: top;\n",
              "    }\n",
              "\n",
              "    .dataframe thead th {\n",
              "        text-align: right;\n",
              "    }\n",
              "</style>\n",
              "<table border=\"1\" class=\"dataframe\">\n",
              "  <thead>\n",
              "    <tr style=\"text-align: right;\">\n",
              "      <th></th>\n",
              "      <th>emotion</th>\n",
              "      <th>Usage</th>\n",
              "      <th>pixels</th>\n",
              "    </tr>\n",
              "  </thead>\n",
              "  <tbody>\n",
              "    <tr>\n",
              "      <th>0</th>\n",
              "      <td>0</td>\n",
              "      <td>Training</td>\n",
              "      <td>70 80 82 72 58 58 60 63 54 58 60 48 89 115 121...</td>\n",
              "    </tr>\n",
              "    <tr>\n",
              "      <th>1</th>\n",
              "      <td>0</td>\n",
              "      <td>Training</td>\n",
              "      <td>151 150 147 155 148 133 111 140 170 174 182 15...</td>\n",
              "    </tr>\n",
              "    <tr>\n",
              "      <th>2</th>\n",
              "      <td>2</td>\n",
              "      <td>Training</td>\n",
              "      <td>231 212 156 164 174 138 161 173 182 200 106 38...</td>\n",
              "    </tr>\n",
              "    <tr>\n",
              "      <th>3</th>\n",
              "      <td>4</td>\n",
              "      <td>Training</td>\n",
              "      <td>24 32 36 30 32 23 19 20 30 41 21 22 32 34 21 1...</td>\n",
              "    </tr>\n",
              "    <tr>\n",
              "      <th>4</th>\n",
              "      <td>6</td>\n",
              "      <td>Training</td>\n",
              "      <td>4 0 0 0 0 0 0 0 0 0 0 0 3 15 23 28 48 50 58 84...</td>\n",
              "    </tr>\n",
              "    <tr>\n",
              "      <th>...</th>\n",
              "      <td>...</td>\n",
              "      <td>...</td>\n",
              "      <td>...</td>\n",
              "    </tr>\n",
              "    <tr>\n",
              "      <th>35882</th>\n",
              "      <td>6</td>\n",
              "      <td>PrivateTest</td>\n",
              "      <td>50 36 17 22 23 29 33 39 34 37 37 37 39 43 48 5...</td>\n",
              "    </tr>\n",
              "    <tr>\n",
              "      <th>35883</th>\n",
              "      <td>3</td>\n",
              "      <td>PrivateTest</td>\n",
              "      <td>178 174 172 173 181 188 191 194 196 199 200 20...</td>\n",
              "    </tr>\n",
              "    <tr>\n",
              "      <th>35884</th>\n",
              "      <td>0</td>\n",
              "      <td>PrivateTest</td>\n",
              "      <td>17 17 16 23 28 22 19 17 25 26 20 24 31 19 27 9...</td>\n",
              "    </tr>\n",
              "    <tr>\n",
              "      <th>35885</th>\n",
              "      <td>3</td>\n",
              "      <td>PrivateTest</td>\n",
              "      <td>30 28 28 29 31 30 42 68 79 81 77 67 67 71 63 6...</td>\n",
              "    </tr>\n",
              "    <tr>\n",
              "      <th>35886</th>\n",
              "      <td>2</td>\n",
              "      <td>PrivateTest</td>\n",
              "      <td>19 13 14 12 13 16 21 33 50 57 71 84 97 108 122...</td>\n",
              "    </tr>\n",
              "  </tbody>\n",
              "</table>\n",
              "<p>35887 rows × 3 columns</p>\n",
              "</div>"
            ],
            "text/plain": [
              "       emotion        Usage                                             pixels\n",
              "0            0     Training  70 80 82 72 58 58 60 63 54 58 60 48 89 115 121...\n",
              "1            0     Training  151 150 147 155 148 133 111 140 170 174 182 15...\n",
              "2            2     Training  231 212 156 164 174 138 161 173 182 200 106 38...\n",
              "3            4     Training  24 32 36 30 32 23 19 20 30 41 21 22 32 34 21 1...\n",
              "4            6     Training  4 0 0 0 0 0 0 0 0 0 0 0 3 15 23 28 48 50 58 84...\n",
              "...        ...          ...                                                ...\n",
              "35882        6  PrivateTest  50 36 17 22 23 29 33 39 34 37 37 37 39 43 48 5...\n",
              "35883        3  PrivateTest  178 174 172 173 181 188 191 194 196 199 200 20...\n",
              "35884        0  PrivateTest  17 17 16 23 28 22 19 17 25 26 20 24 31 19 27 9...\n",
              "35885        3  PrivateTest  30 28 28 29 31 30 42 68 79 81 77 67 67 71 63 6...\n",
              "35886        2  PrivateTest  19 13 14 12 13 16 21 33 50 57 71 84 97 108 122...\n",
              "\n",
              "[35887 rows x 3 columns]"
            ]
          },
          "metadata": {
            "tags": []
          },
          "execution_count": 4
        }
      ]
    },
    {
      "cell_type": "code",
      "metadata": {
        "id": "LYpJF4e9nGnZ"
      },
      "source": [
        "pixel_data = data[' pixels']\n",
        "label_data = data['emotion']\n"
      ],
      "execution_count": 5,
      "outputs": []
    },
    {
      "cell_type": "code",
      "metadata": {
        "id": "QuoH6FbkCjUH",
        "outputId": "954aeecd-7bc5-44c9-b27c-53528d3641a0",
        "colab": {
          "base_uri": "https://localhost:8080/"
        }
      },
      "source": [
        "len(label_data)"
      ],
      "execution_count": 6,
      "outputs": [
        {
          "output_type": "execute_result",
          "data": {
            "text/plain": [
              "35887"
            ]
          },
          "metadata": {
            "tags": []
          },
          "execution_count": 6
        }
      ]
    },
    {
      "cell_type": "code",
      "metadata": {
        "id": "UlV3qB5MnPBy"
      },
      "source": [
        "def preprocess_pixels(pixel_data):\n",
        "  images = []\n",
        "  for i in range(len(pixel_data)):\n",
        "    img = np.fromstring(pixel_data[i], dtype='int', sep=' ')\n",
        "    img = img.reshape(48,48,1)\n",
        "    images.append(img)\n",
        "\n",
        "  X = np.array(images)\n",
        "\n",
        " \n",
        "\n",
        "  return X"
      ],
      "execution_count": 7,
      "outputs": []
    },
    {
      "cell_type": "code",
      "metadata": {
        "id": "-U6G33azphzr",
        "outputId": "3ceceb55-b09d-4821-db36-27043c40a420",
        "colab": {
          "base_uri": "https://localhost:8080/"
        }
      },
      "source": [
        "oversampler = RandomOverSampler(sampling_strategy='auto')\n",
        "\n",
        "X_over, Y_over = oversampler.fit_resample(pixel_data.values.reshape(-1,1), label_data)"
      ],
      "execution_count": 8,
      "outputs": [
        {
          "output_type": "stream",
          "text": [
            "/usr/local/lib/python3.6/dist-packages/sklearn/utils/deprecation.py:87: FutureWarning: Function safe_indexing is deprecated; safe_indexing is deprecated in version 0.22 and will be removed in version 0.24.\n",
            "  warnings.warn(msg, category=FutureWarning)\n"
          ],
          "name": "stderr"
        }
      ]
    },
    {
      "cell_type": "code",
      "metadata": {
        "id": "k-LqmHiSBwSH",
        "outputId": "7d880f92-03cb-4cf8-a64a-36a674458e2d",
        "colab": {
          "base_uri": "https://localhost:8080/"
        }
      },
      "source": [
        "X_over_series = pd.Series(X_over.flatten())\n",
        "X_over_series"
      ],
      "execution_count": 9,
      "outputs": [
        {
          "output_type": "execute_result",
          "data": {
            "text/plain": [
              "0        70 80 82 72 58 58 60 63 54 58 60 48 89 115 121...\n",
              "1        151 150 147 155 148 133 111 140 170 174 182 15...\n",
              "2        231 212 156 164 174 138 161 173 182 200 106 38...\n",
              "3        24 32 36 30 32 23 19 20 30 41 21 22 32 34 21 1...\n",
              "4        4 0 0 0 0 0 0 0 0 0 0 0 3 15 23 28 48 50 58 84...\n",
              "                               ...                        \n",
              "62918    24 16 22 37 54 59 38 42 37 38 52 56 48 55 62 8...\n",
              "62919    34 30 57 76 81 85 85 77 86 97 119 129 114 78 4...\n",
              "62920    211 218 220 174 96 64 35 37 56 60 75 105 145 1...\n",
              "62921    135 119 98 77 77 111 123 120 110 100 110 119 1...\n",
              "62922    56 49 49 70 127 166 218 237 232 225 219 208 20...\n",
              "Length: 62923, dtype: object"
            ]
          },
          "metadata": {
            "tags": []
          },
          "execution_count": 9
        }
      ]
    },
    {
      "cell_type": "code",
      "metadata": {
        "id": "_W4P_1AVB9GK"
      },
      "source": [
        "X = preprocess_pixels(X_over_series)\n",
        "Y = Y_over"
      ],
      "execution_count": 10,
      "outputs": []
    },
    {
      "cell_type": "code",
      "metadata": {
        "id": "AWusdjrqCI16",
        "outputId": "9089f0b4-5e73-4110-b8d8-fa016db574f8",
        "colab": {
          "base_uri": "https://localhost:8080/"
        }
      },
      "source": [
        "Y = Y_over.reshape(Y.shape[0],1)\n",
        "Y.shape"
      ],
      "execution_count": 11,
      "outputs": [
        {
          "output_type": "execute_result",
          "data": {
            "text/plain": [
              "(62923, 1)"
            ]
          },
          "metadata": {
            "tags": []
          },
          "execution_count": 11
        }
      ]
    },
    {
      "cell_type": "code",
      "metadata": {
        "id": "ZdC8lQQ0kYjD"
      },
      "source": [
        "X_train, X_test, Y_train, Y_test = train_test_split(X, Y, test_size = 0.1, random_state = 45)"
      ],
      "execution_count": 12,
      "outputs": []
    },
    {
      "cell_type": "code",
      "metadata": {
        "id": "aKTjUkGBQ3X-"
      },
      "source": [
        "def emotion_recognition(input_shape):\n",
        "\n",
        "  X_input = Input(input_shape)\n",
        "\n",
        "  X = Conv2D(32, kernel_size=(3,3), strides=(1,1), padding='valid')(X_input)\n",
        "  X = BatchNormalization(axis=3)(X)\n",
        "  X = Activation('relu')(X)\n",
        "\n",
        "\n",
        "  X = Conv2D(64, (3,3), strides=(1,1), padding = 'same')(X)\n",
        "  X = BatchNormalization(axis=3)(X)\n",
        "  X = Activation('relu')(X)\n",
        "\n",
        "  X = MaxPooling2D((2,2))(X)\n",
        "\n",
        "  X = Conv2D(64, (3,3), strides=(1,1), padding = 'valid')(X)\n",
        "  X = BatchNormalization(axis=3)(X)\n",
        "  X = Activation('relu')(X)\n",
        "\n",
        "  X = Conv2D(128, (3,3), strides=(1,1), padding = 'same')(X)\n",
        "  X = BatchNormalization(axis=3)(X)\n",
        "  X = Activation('relu')(X)\n",
        "\n",
        "\n",
        "  X = MaxPooling2D((2,2))(X)\n",
        "\n",
        "  X = Conv2D(128, (3,3), strides=(1,1), padding = 'valid')(X)\n",
        "  X = BatchNormalization(axis=3)(X)\n",
        "  X = Activation('relu')(X)\n",
        "\n",
        " \n",
        "\n",
        "  X = MaxPooling2D((2,2))(X)\n",
        "  X = Flatten()(X)\n",
        "  X = Dense(200, activation='relu')(X)\n",
        "  X = Dropout(0.6)(X)\n",
        "  X = Dense(7, activation = 'softmax')(X)\n",
        "\n",
        "  model = Model(inputs=X_input, outputs=X)\n",
        "\n",
        "  return model\n",
        "\n",
        "\n",
        "\n",
        "\n",
        "\n",
        "\n",
        "\n",
        "\n"
      ],
      "execution_count": 2,
      "outputs": []
    },
    {
      "cell_type": "code",
      "metadata": {
        "id": "U6mxW-TA80lO"
      },
      "source": [
        "model = emotion_recognition((48,48,1))\n"
      ],
      "execution_count": 3,
      "outputs": []
    },
    {
      "cell_type": "code",
      "metadata": {
        "id": "7zhVS4hHCHCU",
        "outputId": "8c92a55b-4dce-475e-88c4-351b93c07c56",
        "colab": {
          "base_uri": "https://localhost:8080/"
        }
      },
      "source": [
        "model.summary()"
      ],
      "execution_count": 4,
      "outputs": [
        {
          "output_type": "stream",
          "text": [
            "Model: \"functional_1\"\n",
            "_________________________________________________________________\n",
            "Layer (type)                 Output Shape              Param #   \n",
            "=================================================================\n",
            "input_1 (InputLayer)         [(None, 48, 48, 1)]       0         \n",
            "_________________________________________________________________\n",
            "conv2d (Conv2D)              (None, 46, 46, 32)        320       \n",
            "_________________________________________________________________\n",
            "batch_normalization (BatchNo (None, 46, 46, 32)        128       \n",
            "_________________________________________________________________\n",
            "activation (Activation)      (None, 46, 46, 32)        0         \n",
            "_________________________________________________________________\n",
            "conv2d_1 (Conv2D)            (None, 46, 46, 64)        18496     \n",
            "_________________________________________________________________\n",
            "batch_normalization_1 (Batch (None, 46, 46, 64)        256       \n",
            "_________________________________________________________________\n",
            "activation_1 (Activation)    (None, 46, 46, 64)        0         \n",
            "_________________________________________________________________\n",
            "max_pooling2d (MaxPooling2D) (None, 23, 23, 64)        0         \n",
            "_________________________________________________________________\n",
            "conv2d_2 (Conv2D)            (None, 21, 21, 64)        36928     \n",
            "_________________________________________________________________\n",
            "batch_normalization_2 (Batch (None, 21, 21, 64)        256       \n",
            "_________________________________________________________________\n",
            "activation_2 (Activation)    (None, 21, 21, 64)        0         \n",
            "_________________________________________________________________\n",
            "conv2d_3 (Conv2D)            (None, 21, 21, 128)       73856     \n",
            "_________________________________________________________________\n",
            "batch_normalization_3 (Batch (None, 21, 21, 128)       512       \n",
            "_________________________________________________________________\n",
            "activation_3 (Activation)    (None, 21, 21, 128)       0         \n",
            "_________________________________________________________________\n",
            "max_pooling2d_1 (MaxPooling2 (None, 10, 10, 128)       0         \n",
            "_________________________________________________________________\n",
            "conv2d_4 (Conv2D)            (None, 8, 8, 128)         147584    \n",
            "_________________________________________________________________\n",
            "batch_normalization_4 (Batch (None, 8, 8, 128)         512       \n",
            "_________________________________________________________________\n",
            "activation_4 (Activation)    (None, 8, 8, 128)         0         \n",
            "_________________________________________________________________\n",
            "max_pooling2d_2 (MaxPooling2 (None, 4, 4, 128)         0         \n",
            "_________________________________________________________________\n",
            "flatten (Flatten)            (None, 2048)              0         \n",
            "_________________________________________________________________\n",
            "dense (Dense)                (None, 200)               409800    \n",
            "_________________________________________________________________\n",
            "dropout (Dropout)            (None, 200)               0         \n",
            "_________________________________________________________________\n",
            "dense_1 (Dense)              (None, 7)                 1407      \n",
            "=================================================================\n",
            "Total params: 690,055\n",
            "Trainable params: 689,223\n",
            "Non-trainable params: 832\n",
            "_________________________________________________________________\n"
          ],
          "name": "stdout"
        }
      ]
    },
    {
      "cell_type": "code",
      "metadata": {
        "id": "P0AO5FHaImqO"
      },
      "source": [
        "adam = keras.optimizers.Adam(learning_rate=0.0001)\n",
        "model.compile(optimizer=adam, loss='categorical_crossentropy', metrics=['accuracy'])"
      ],
      "execution_count": 5,
      "outputs": []
    },
    {
      "cell_type": "code",
      "metadata": {
        "id": "Te1pUFMTKb7G"
      },
      "source": [
        "y_train = to_categorical(Y_train, num_classes=7)"
      ],
      "execution_count": 58,
      "outputs": []
    },
    {
      "cell_type": "code",
      "metadata": {
        "id": "x5HZvYC5WIJY",
        "outputId": "69a79266-4998-4d29-bd85-feef58f5bd5f",
        "colab": {
          "base_uri": "https://localhost:8080/"
        }
      },
      "source": [
        "y_train.shape"
      ],
      "execution_count": 59,
      "outputs": [
        {
          "output_type": "execute_result",
          "data": {
            "text/plain": [
              "(56630, 7)"
            ]
          },
          "metadata": {
            "tags": []
          },
          "execution_count": 59
        }
      ]
    },
    {
      "cell_type": "code",
      "metadata": {
        "id": "ZNrC1rHzKajD"
      },
      "source": [
        "y_test = to_categorical(Y_test, num_classes=7)"
      ],
      "execution_count": 60,
      "outputs": []
    },
    {
      "cell_type": "code",
      "metadata": {
        "id": "p0qBOHpKKRbP",
        "outputId": "1041cd9a-42e7-486a-9b34-f90680d8a371",
        "colab": {
          "base_uri": "https://localhost:8080/"
        }
      },
      "source": [
        "model.fit(X_train, y_train, epochs = 30, validation_data=(X_test, y_test))"
      ],
      "execution_count": 61,
      "outputs": [
        {
          "output_type": "stream",
          "text": [
            "Epoch 1/30\n",
            "1770/1770 [==============================] - 15s 8ms/step - loss: 1.7400 - accuracy: 0.3192 - val_loss: 1.4203 - val_accuracy: 0.4715\n",
            "Epoch 2/30\n",
            "1770/1770 [==============================] - 15s 8ms/step - loss: 1.3774 - accuracy: 0.4722 - val_loss: 1.2002 - val_accuracy: 0.5547\n",
            "Epoch 3/30\n",
            "1770/1770 [==============================] - 15s 8ms/step - loss: 1.1989 - accuracy: 0.5409 - val_loss: 1.0786 - val_accuracy: 0.5800\n",
            "Epoch 4/30\n",
            "1770/1770 [==============================] - 15s 8ms/step - loss: 1.0859 - accuracy: 0.5845 - val_loss: 0.9894 - val_accuracy: 0.6272\n",
            "Epoch 5/30\n",
            "1770/1770 [==============================] - 15s 8ms/step - loss: 0.9899 - accuracy: 0.6244 - val_loss: 0.9303 - val_accuracy: 0.6564\n",
            "Epoch 6/30\n",
            "1770/1770 [==============================] - 15s 8ms/step - loss: 0.9187 - accuracy: 0.6512 - val_loss: 0.9022 - val_accuracy: 0.6638\n",
            "Epoch 7/30\n",
            "1770/1770 [==============================] - 15s 8ms/step - loss: 0.8476 - accuracy: 0.6815 - val_loss: 0.8334 - val_accuracy: 0.6939\n",
            "Epoch 8/30\n",
            "1770/1770 [==============================] - 15s 8ms/step - loss: 0.7751 - accuracy: 0.7105 - val_loss: 0.8088 - val_accuracy: 0.7065\n",
            "Epoch 9/30\n",
            "1770/1770 [==============================] - 15s 8ms/step - loss: 0.7027 - accuracy: 0.7394 - val_loss: 0.7700 - val_accuracy: 0.7272\n",
            "Epoch 10/30\n",
            "1770/1770 [==============================] - 15s 8ms/step - loss: 0.6416 - accuracy: 0.7640 - val_loss: 0.7362 - val_accuracy: 0.7435\n",
            "Epoch 11/30\n",
            "1770/1770 [==============================] - 15s 8ms/step - loss: 0.5813 - accuracy: 0.7902 - val_loss: 0.7227 - val_accuracy: 0.7504\n",
            "Epoch 12/30\n",
            "1770/1770 [==============================] - 15s 8ms/step - loss: 0.5255 - accuracy: 0.8112 - val_loss: 0.6883 - val_accuracy: 0.7656\n",
            "Epoch 13/30\n",
            "1770/1770 [==============================] - 15s 8ms/step - loss: 0.4752 - accuracy: 0.8301 - val_loss: 0.6920 - val_accuracy: 0.7742\n",
            "Epoch 14/30\n",
            "1770/1770 [==============================] - 15s 9ms/step - loss: 0.4239 - accuracy: 0.8489 - val_loss: 0.6509 - val_accuracy: 0.7896\n",
            "Epoch 15/30\n",
            "1770/1770 [==============================] - 15s 8ms/step - loss: 0.3849 - accuracy: 0.8634 - val_loss: 0.7787 - val_accuracy: 0.7524\n",
            "Epoch 16/30\n",
            "1770/1770 [==============================] - 15s 8ms/step - loss: 0.3457 - accuracy: 0.8774 - val_loss: 0.7368 - val_accuracy: 0.7729\n",
            "Epoch 17/30\n",
            "1770/1770 [==============================] - 15s 8ms/step - loss: 0.3165 - accuracy: 0.8883 - val_loss: 0.7810 - val_accuracy: 0.7839\n",
            "Epoch 18/30\n",
            "1770/1770 [==============================] - 15s 8ms/step - loss: 0.2849 - accuracy: 0.8997 - val_loss: 0.7367 - val_accuracy: 0.7972\n",
            "Epoch 19/30\n",
            "1770/1770 [==============================] - 15s 8ms/step - loss: 0.2605 - accuracy: 0.9094 - val_loss: 1.0519 - val_accuracy: 0.7311\n",
            "Epoch 20/30\n",
            "1770/1770 [==============================] - 15s 8ms/step - loss: 0.2371 - accuracy: 0.9173 - val_loss: 0.6862 - val_accuracy: 0.8174\n",
            "Epoch 21/30\n",
            "1770/1770 [==============================] - 15s 8ms/step - loss: 0.2197 - accuracy: 0.9234 - val_loss: 0.7652 - val_accuracy: 0.8092\n",
            "Epoch 22/30\n",
            "1770/1770 [==============================] - 15s 8ms/step - loss: 0.2038 - accuracy: 0.9300 - val_loss: 0.6943 - val_accuracy: 0.8231\n",
            "Epoch 23/30\n",
            "1770/1770 [==============================] - 15s 8ms/step - loss: 0.1846 - accuracy: 0.9366 - val_loss: 0.7868 - val_accuracy: 0.8149\n",
            "Epoch 24/30\n",
            "1770/1770 [==============================] - 15s 8ms/step - loss: 0.1735 - accuracy: 0.9402 - val_loss: 0.7357 - val_accuracy: 0.8260\n",
            "Epoch 25/30\n",
            "1770/1770 [==============================] - 15s 8ms/step - loss: 0.1665 - accuracy: 0.9430 - val_loss: 0.8074 - val_accuracy: 0.8257\n",
            "Epoch 26/30\n",
            "1770/1770 [==============================] - 15s 8ms/step - loss: 0.1536 - accuracy: 0.9482 - val_loss: 0.8194 - val_accuracy: 0.8155\n",
            "Epoch 27/30\n",
            "1770/1770 [==============================] - 15s 8ms/step - loss: 0.1490 - accuracy: 0.9485 - val_loss: 0.8810 - val_accuracy: 0.8215\n",
            "Epoch 28/30\n",
            "1770/1770 [==============================] - 15s 8ms/step - loss: 0.1425 - accuracy: 0.9507 - val_loss: 0.8706 - val_accuracy: 0.8236\n",
            "Epoch 29/30\n",
            "1770/1770 [==============================] - 15s 8ms/step - loss: 0.1340 - accuracy: 0.9546 - val_loss: 0.8171 - val_accuracy: 0.8281\n",
            "Epoch 30/30\n",
            "1770/1770 [==============================] - 15s 8ms/step - loss: 0.1273 - accuracy: 0.9560 - val_loss: 0.8396 - val_accuracy: 0.8281\n"
          ],
          "name": "stdout"
        },
        {
          "output_type": "execute_result",
          "data": {
            "text/plain": [
              "<tensorflow.python.keras.callbacks.History at 0x7f3b20238518>"
            ]
          },
          "metadata": {
            "tags": []
          },
          "execution_count": 61
        }
      ]
    },
    {
      "cell_type": "code",
      "metadata": {
        "id": "I7KOJ9xXg1Pe"
      },
      "source": [
        "model.save_weights('/content/drive/My Drive/emotion_weights_3.hdf5')"
      ],
      "execution_count": 62,
      "outputs": []
    },
    {
      "cell_type": "code",
      "metadata": {
        "id": "BSajFgGWKR6u",
        "outputId": "2df5a1b3-2847-4061-b5f5-605accd4993c",
        "colab": {
          "base_uri": "https://localhost:8080/"
        }
      },
      "source": [
        "model.evaluate(X_test, y_test)"
      ],
      "execution_count": 63,
      "outputs": [
        {
          "output_type": "stream",
          "text": [
            "197/197 [==============================] - 1s 4ms/step - loss: 0.8396 - accuracy: 0.8281\n"
          ],
          "name": "stdout"
        },
        {
          "output_type": "execute_result",
          "data": {
            "text/plain": [
              "[0.8395584225654602, 0.8280629515647888]"
            ]
          },
          "metadata": {
            "tags": []
          },
          "execution_count": 63
        }
      ]
    },
    {
      "cell_type": "code",
      "metadata": {
        "id": "zNdAZXE5g8q5"
      },
      "source": [
        "preds = model.predict(X_train)"
      ],
      "execution_count": 64,
      "outputs": []
    },
    {
      "cell_type": "code",
      "metadata": {
        "id": "7tdiBU8B-p-n"
      },
      "source": [
        "def get_class(preds):\n",
        "  pred_class = np.zeros((preds.shape[0],1))\n",
        "\n",
        "  for i in range(len(preds)):\n",
        "   pred_class[i] = np.argmax(preds[i])\n",
        "\n",
        "  return pred_class"
      ],
      "execution_count": 82,
      "outputs": []
    },
    {
      "cell_type": "code",
      "metadata": {
        "id": "SuEwTPlI-vht"
      },
      "source": [
        "pred_class_train = get_class(preds)"
      ],
      "execution_count": 83,
      "outputs": []
    },
    {
      "cell_type": "code",
      "metadata": {
        "id": "TLmBEdV97bKt"
      },
      "source": [
        "train_report = classification_report(Y_train, pred_class_train)\n"
      ],
      "execution_count": 85,
      "outputs": []
    },
    {
      "cell_type": "code",
      "metadata": {
        "id": "ri5m6mPS7z-y",
        "outputId": "37d6ebc2-f196-4bd0-c681-7e96ea25721c",
        "colab": {
          "base_uri": "https://localhost:8080/"
        }
      },
      "source": [
        "print(train_report)"
      ],
      "execution_count": 87,
      "outputs": [
        {
          "output_type": "stream",
          "text": [
            "              precision    recall  f1-score   support\n",
            "\n",
            "           0       0.99      0.99      0.99      8054\n",
            "           1       1.00      1.00      1.00      8094\n",
            "           2       0.99      0.98      0.98      8109\n",
            "           3       1.00      0.99      0.99      8083\n",
            "           4       0.98      0.98      0.98      8101\n",
            "           5       0.99      0.99      0.99      8120\n",
            "           6       0.98      0.99      0.99      8069\n",
            "\n",
            "    accuracy                           0.99     56630\n",
            "   macro avg       0.99      0.99      0.99     56630\n",
            "weighted avg       0.99      0.99      0.99     56630\n",
            "\n"
          ],
          "name": "stdout"
        }
      ]
    },
    {
      "cell_type": "code",
      "metadata": {
        "id": "C1Kao6-C75oX"
      },
      "source": [
        "test_preds = model.predict(X_test)"
      ],
      "execution_count": 88,
      "outputs": []
    },
    {
      "cell_type": "code",
      "metadata": {
        "id": "1htzlakG8NrL",
        "outputId": "a28be4ee-b00d-418e-e6c6-60ee9d614567",
        "colab": {
          "base_uri": "https://localhost:8080/"
        }
      },
      "source": [
        "len(test_preds)"
      ],
      "execution_count": 89,
      "outputs": [
        {
          "output_type": "execute_result",
          "data": {
            "text/plain": [
              "6293"
            ]
          },
          "metadata": {
            "tags": []
          },
          "execution_count": 89
        }
      ]
    },
    {
      "cell_type": "code",
      "metadata": {
        "id": "NVCYR7EZ8OSm"
      },
      "source": [
        "pred_test_class = get_class(test_preds)\n"
      ],
      "execution_count": 90,
      "outputs": []
    },
    {
      "cell_type": "code",
      "metadata": {
        "id": "DvZhwY9z8die"
      },
      "source": [
        "report_test = classification_report(Y_test, pred_test_class)"
      ],
      "execution_count": 91,
      "outputs": []
    },
    {
      "cell_type": "code",
      "metadata": {
        "id": "eNv1DDiO8mph",
        "outputId": "b6fc5148-439e-4069-9668-f5f20b7e293b",
        "colab": {
          "base_uri": "https://localhost:8080/"
        }
      },
      "source": [
        "print(report_test)"
      ],
      "execution_count": 92,
      "outputs": [
        {
          "output_type": "stream",
          "text": [
            "              precision    recall  f1-score   support\n",
            "\n",
            "           0       0.83      0.80      0.82       935\n",
            "           1       0.99      1.00      1.00       895\n",
            "           2       0.83      0.81      0.82       880\n",
            "           3       0.84      0.72      0.78       906\n",
            "           4       0.70      0.76      0.73       888\n",
            "           5       0.91      0.94      0.92       869\n",
            "           6       0.72      0.77      0.74       920\n",
            "\n",
            "    accuracy                           0.83      6293\n",
            "   macro avg       0.83      0.83      0.83      6293\n",
            "weighted avg       0.83      0.83      0.83      6293\n",
            "\n"
          ],
          "name": "stdout"
        }
      ]
    },
    {
      "cell_type": "code",
      "metadata": {
        "id": "jeZdCP9KgJGQ",
        "outputId": "ac8f0090-43ec-48da-885c-5780f3b11daa",
        "colab": {
          "base_uri": "https://localhost:8080/"
        }
      },
      "source": [
        "label_dict = {0 : 'Angry', 1 : 'Disgust', 2 : 'Fear', 3 : 'Happiness', 4 : 'Sad', 5 : 'Surprise', 6 : 'Neutral'}\n",
        "label_dict"
      ],
      "execution_count": 6,
      "outputs": [
        {
          "output_type": "execute_result",
          "data": {
            "text/plain": [
              "{0: 'Angry',\n",
              " 1: 'Disgust',\n",
              " 2: 'Fear',\n",
              " 3: 'Happiness',\n",
              " 4: 'Sad',\n",
              " 5: 'Surprise',\n",
              " 6: 'Neutral'}"
            ]
          },
          "metadata": {
            "tags": []
          },
          "execution_count": 6
        }
      ]
    },
    {
      "cell_type": "code",
      "metadata": {
        "id": "ClwqyGLl8rjA",
        "outputId": "4acede2a-f222-4539-848c-b3a7fb6c6ccb",
        "colab": {
          "base_uri": "https://localhost:8080/"
        }
      },
      "source": [
        "img_path = 'test1_happiness.jpeg'\n",
        "img = image.load_img(img_path, grayscale=True, target_size=(48,48))"
      ],
      "execution_count": 102,
      "outputs": [
        {
          "output_type": "stream",
          "text": [
            "/usr/local/lib/python3.6/dist-packages/keras_preprocessing/image/utils.py:107: UserWarning: grayscale is deprecated. Please use color_mode = \"grayscale\"\n",
            "  warnings.warn('grayscale is deprecated. Please use '\n"
          ],
          "name": "stderr"
        }
      ]
    },
    {
      "cell_type": "code",
      "metadata": {
        "id": "_J21yAK5eqMC",
        "outputId": "88afa421-594d-4a42-b0a2-8ed82b65ee72",
        "colab": {
          "base_uri": "https://localhost:8080/"
        }
      },
      "source": [
        "x = image.img_to_array(img)\n",
        "x = np.expand_dims(x, axis=0)\n",
        "x.shape"
      ],
      "execution_count": 103,
      "outputs": [
        {
          "output_type": "execute_result",
          "data": {
            "text/plain": [
              "(1, 48, 48, 1)"
            ]
          },
          "metadata": {
            "tags": []
          },
          "execution_count": 103
        }
      ]
    },
    {
      "cell_type": "code",
      "metadata": {
        "id": "gcv0KacPevJS",
        "outputId": "ceb124b4-6e76-4a8c-814b-b8110c20ba09",
        "colab": {
          "base_uri": "https://localhost:8080/",
          "height": 302
        }
      },
      "source": [
        "prediction = np.argmax(model.predict(x))\n",
        "print('The predicted emotion is : ' + label_dict[prediction])\n",
        "my_image = image.load_img(img_path)\n",
        "plt.imshow(my_image)"
      ],
      "execution_count": 104,
      "outputs": [
        {
          "output_type": "stream",
          "text": [
            "The predicted emotion is : Happiness\n"
          ],
          "name": "stdout"
        },
        {
          "output_type": "execute_result",
          "data": {
            "text/plain": [
              "<matplotlib.image.AxesImage at 0x7f3b3a0e36d8>"
            ]
          },
          "metadata": {
            "tags": []
          },
          "execution_count": 104
        },
        {
          "output_type": "display_data",
          "data": {
            "image/png": "[encoded data removed]",
            "text/plain": [
              "<Figure size 432x288 with 1 Axes>"
            ]
          },
          "metadata": {
            "tags": [],
            "needs_background": "light"
          }
        }
      ]
    },
    {
      "cell_type": "code",
      "metadata": {
        "id": "H6A4tX7Dnbs-"
      },
      "source": [
        "model.load_weights('C:\\\\Users\\\\ketan\\\\Desktop\\\\Machine Learning\\\\Facial Expression\\\\emotion_weights_3.hdf5')"
      ],
      "execution_count": 7,
      "outputs": []
    },
    {
      "cell_type": "code",
      "metadata": {
        "id": "spAfFGjQAzms"
      },
      "source": [
        "face_haar_cascade = cv2.CascadeClassifier('C:\\\\Users\\\\ketan\\\\Desktop\\\\Machine Learning\\\\Facial Expression\\\\archive\\\\haarcascade_frontalface_default.xml')\n",
        "\n"
      ],
      "execution_count": 8,
      "outputs": []
    },
    {
      "cell_type": "code",
      "metadata": {
        "id": "eotSMEXUDMs5"
      },
      "source": [
        "cap = cv2.VideoCapture(0)\n",
        "\n",
        "while True:\n",
        " \n",
        " _,cap_image = cap.read()\n",
        "\n",
        "\n",
        "\n",
        "\n",
        " cap_img_gray = cv2.cvtColor(cap_image, cv2.COLOR_BGR2GRAY)\n",
        "\n",
        " faces = face_haar_cascade.detectMultiScale(cap_img_gray, 1.3, 5)\n",
        "\n",
        " for (x,y,w,h) in faces:\n",
        "\n",
        "   cv2.rectangle(cap_image, (x,y), (x+w,y+h),(255,0,0),2)\n",
        "   roi_gray = cap_img_gray[y:y+h, x:x+w]\n",
        "   roi_gray = cv2.resize(roi_gray, (48,48))\n",
        "   img_pixels = image.img_to_array(roi_gray)\n",
        "   img_pixels = np.expand_dims(img_pixels, axis=0)\n",
        "\n",
        "   predictions = model.predict(img_pixels)\n",
        "   emotion_label = np.argmax(predictions)\n",
        "\n",
        "   emotion_prediction = label_dict[emotion_label]\n",
        "\n",
        "   cv2.putText(cap_image, emotion_prediction, (int(x), int(y)), cv2.FONT_HERSHEY_SIMPLEX, 0.75, (0,0,0), 1 )\n",
        "\n",
        "   resize_image = cv2.resize(cap_image, (1000,700))\n",
        "   cv2.imshow('Emotion',resize_image)\n",
        "\n",
        "   if cv2.waitKey(10) == ord('b'):\n",
        "    break\n",
        "  \n",
        "cap.release()\n",
        "cv2.destroyAllWindows \n"
      ],
      "execution_count": null,
      "outputs": []
    },
    {
      "cell_type": "code",
      "metadata": {
        "id": "STR4EkkTukuN"
      },
      "source": [
        ""
      ],
      "execution_count": null,
      "outputs": []
    }
  ]
}